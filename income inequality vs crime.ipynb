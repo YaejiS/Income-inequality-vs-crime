{
 "metadata": {
  "language_info": {
   "codemirror_mode": {
    "name": "ipython",
    "version": 3
   },
   "file_extension": ".py",
   "mimetype": "text/x-python",
   "name": "python",
   "nbconvert_exporter": "python",
   "pygments_lexer": "ipython3",
   "version": 3
  },
  "orig_nbformat": 2
 },
 "nbformat": 4,
 "nbformat_minor": 2,
 "cells": [
  {
   "cell_type": "code",
   "execution_count": null,
   "metadata": {},
   "outputs": [],
   "source": [
    "import re\n",
    "import requests\n",
    "from bs4 import BeautifulSoup\n",
    "from os import path\n",
    "try:\n",
    "    import urllib\n",
    "except ImportError:\n",
    "    from urlparse import urlparse\n",
    "import pandas\n",
    "# import sys\n",
    "# !{sys.executable} -m pip install lxml\n",
    "import lxml\n",
    "import html5lib\n",
    "\n",
    "headers = {'User-Agent': 'Mozilla/5.0 (X11; Linux x86_64; rv:10.0.1) Gecko/20100101 Firefox/10.0.1'}\n",
    "\n",
    "r = requests.get('https://www.statista.com/statistics/227249/greatest-gap-between-rich-and-poor-by-us-state/', headers=headers)\n",
    "\n",
    "test = pandas.read_html(r.text)\n",
    "\n",
    "root = BeautifulSoup(r.text, 'html.parser')\n",
    "table = root.find(\"table\").prettify()\n",
    "\n",
    "panda_list = pandas.read_html(str(table), converters={\"tbody\": str})\n",
    "panda_table = pandas.DataFrame(panda_list[0])\n",
    "panda_table.columns = ['State', 'Gini Coefficient']"
   ]
  },
  {
   "cell_type": "code",
   "execution_count": null,
   "metadata": {},
   "outputs": [],
   "source": []
  }
 ]
}