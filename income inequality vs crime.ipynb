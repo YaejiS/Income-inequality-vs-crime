{
 "metadata": {
  "language_info": {
   "codemirror_mode": {
    "name": "ipython",
    "version": 3
   },
   "file_extension": ".py",
   "mimetype": "text/x-python",
   "name": "python",
   "nbconvert_exporter": "python",
   "pygments_lexer": "ipython3",
   "version": 3
  },
  "orig_nbformat": 2
 },
 "nbformat": 4,
 "nbformat_minor": 2,
 "cells": [
  {
   "cell_type": "code",
   "execution_count": null,
   "metadata": {},
   "outputs": [],
   "source": [
    "import re\n",
    "import requests\n",
    "from bs4 import BeautifulSoup\n",
    "from os import path\n",
    "try:\n",
    "    import urllib\n",
    "except ImportError:\n",
    "    from urlparse import urlparse\n",
    "import pandas\n",
    "# import sys\n",
    "# !{sys.executable} -m pip install lxml\n",
    "import lxml\n",
    "import html5lib\n",
    "\n",
    "headers = {'User-Agent': 'Mozilla/5.0 (X11; Linux x86_64; rv:10.0.1) Gecko/20100101 Firefox/10.0.1'}\n",
    "\n",
    "r = requests.get('https://www.statista.com/statistics/227249/greatest-gap-between-rich-and-poor-by-us-state/', headers=headers)\n",
    "\n",
    "root = BeautifulSoup(r.text, 'html.parser')\n",
    "table = root.find(\"table\").prettify()\n",
    "\n",
    "income_list = pandas.read_html(str(table), converters={\"tbody\": str})\n",
    "income_table = pandas.DataFrame(income_list[0])\n",
    "income_table.columns = ['States', 'Gini Coefficient']"
   ]
  },
  {
   "cell_type": "code",
   "execution_count": null,
   "metadata": {},
   "outputs": [],
   "source": [
    "crime = requests.get('https://www.statista.com/statistics/200445/reported-violent-crime-rate-in-the-us-states/', headers=headers)\n",
    "\n",
    "crime_soup = BeautifulSoup(crime.text, 'html.parser')\n",
    "\n",
    "# View the content and find the appropriate table\n",
    "crime_table = crime_soup.find(\"table\").prettify()\n",
    "\n",
    "# Save the aforementioned table as a variable\n",
    "crime_list = pandas.read_html(str(crime_table), converters={\"tbody\": str})\n",
    "crime_list = crime_list[0]\n",
    "crime_list.columns = ['States', 'Crime Rate']\n",
    "\n",
    "data = crime_list.merge(income_table, how = \"inner\", left_on = \"States\", right_on = \"States\")\n",
    "\n",
    "data"
   ]
  },
  {
   "cell_type": "code",
   "execution_count": null,
   "metadata": {},
   "outputs": [],
   "source": [
    "import matplotlib.pyplot as plt\n",
    "import numpy as np\n",
    "from pandas import DataFrame\n",
    "\n",
    "# data.plot(x=\"X\", y=[\"A\", \"B\", \"C\"], kind=\"bar\")\n",
    "data.plot(x=\"States\", y=[\"Gini Coefficient\", \"Crime Rate\"], kind=\"bar\")\n",
    "\n",
    "plt.show()"
   ]
  }
 ]
}